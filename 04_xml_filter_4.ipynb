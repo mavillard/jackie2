{
 "cells": [
  {
   "cell_type": "code",
   "execution_count": 1,
   "metadata": {},
   "outputs": [],
   "source": [
    "import pickle\n",
    "import os\n",
    "from xml.etree import ElementTree as ET\n",
    "\n",
    "import pandas as pd"
   ]
  },
  {
   "cell_type": "code",
   "execution_count": 2,
   "metadata": {},
   "outputs": [],
   "source": [
    "mesh_tree_df = pd.read_csv('data/mesh/mtrees2018.bin', sep=';', header=None)"
   ]
  },
  {
   "cell_type": "code",
   "execution_count": 3,
   "metadata": {},
   "outputs": [
    {
     "data": {
      "text/plain": [
       "(58744, 2)"
      ]
     },
     "execution_count": 3,
     "metadata": {},
     "output_type": "execute_result"
    }
   ],
   "source": [
    "mesh_tree_df.shape"
   ]
  },
  {
   "cell_type": "code",
   "execution_count": 4,
   "metadata": {},
   "outputs": [
    {
     "data": {
      "text/html": [
       "<div>\n",
       "<style scoped>\n",
       "    .dataframe tbody tr th:only-of-type {\n",
       "        vertical-align: middle;\n",
       "    }\n",
       "\n",
       "    .dataframe tbody tr th {\n",
       "        vertical-align: top;\n",
       "    }\n",
       "\n",
       "    .dataframe thead th {\n",
       "        text-align: right;\n",
       "    }\n",
       "</style>\n",
       "<table border=\"1\" class=\"dataframe\">\n",
       "  <thead>\n",
       "    <tr style=\"text-align: right;\">\n",
       "      <th></th>\n",
       "      <th>0</th>\n",
       "      <th>1</th>\n",
       "    </tr>\n",
       "  </thead>\n",
       "  <tbody>\n",
       "    <tr>\n",
       "      <th>0</th>\n",
       "      <td>Body Regions</td>\n",
       "      <td>A01</td>\n",
       "    </tr>\n",
       "    <tr>\n",
       "      <th>1</th>\n",
       "      <td>Anatomic Landmarks</td>\n",
       "      <td>A01.111</td>\n",
       "    </tr>\n",
       "    <tr>\n",
       "      <th>2</th>\n",
       "      <td>Breast</td>\n",
       "      <td>A01.236</td>\n",
       "    </tr>\n",
       "    <tr>\n",
       "      <th>3</th>\n",
       "      <td>Mammary Glands, Human</td>\n",
       "      <td>A01.236.249</td>\n",
       "    </tr>\n",
       "    <tr>\n",
       "      <th>4</th>\n",
       "      <td>Nipples</td>\n",
       "      <td>A01.236.500</td>\n",
       "    </tr>\n",
       "  </tbody>\n",
       "</table>\n",
       "</div>"
      ],
      "text/plain": [
       "                       0            1\n",
       "0           Body Regions          A01\n",
       "1     Anatomic Landmarks      A01.111\n",
       "2                 Breast      A01.236\n",
       "3  Mammary Glands, Human  A01.236.249\n",
       "4                Nipples  A01.236.500"
      ]
     },
     "execution_count": 4,
     "metadata": {},
     "output_type": "execute_result"
    }
   ],
   "source": [
    "mesh_tree_df.head()"
   ]
  },
  {
   "cell_type": "code",
   "execution_count": 5,
   "metadata": {},
   "outputs": [],
   "source": [
    "mesh_tree_sr = pd.Series(mesh_tree_df[1].values, index=mesh_tree_df[0].values)"
   ]
  },
  {
   "cell_type": "code",
   "execution_count": 6,
   "metadata": {},
   "outputs": [
    {
     "data": {
      "text/plain": [
       "Body Regions                     A01\n",
       "Anatomic Landmarks           A01.111\n",
       "Breast                       A01.236\n",
       "Mammary Glands, Human    A01.236.249\n",
       "Nipples                  A01.236.500\n",
       "dtype: object"
      ]
     },
     "execution_count": 6,
     "metadata": {},
     "output_type": "execute_result"
    }
   ],
   "source": [
    "mesh_tree_sr.head()"
   ]
  },
  {
   "cell_type": "markdown",
   "metadata": {},
   "source": [
    "MeSH (https://meshb.nlm.nih.gov/)\n",
    "* \"psychiatry\" or \"psychology\"\n",
    "    * Psychiatry and Psychology [F]\n",
    "    * EXCEPTIONS:\n",
    "        * Religion and Psychology [F02.880; K01.844.664]\n",
    "        * Biofeedback, Psychology [E02.190.525.123; F02.830.131; F04.754.137.301; F04.754.308.500]\n",
    "        * Ergonomics [F02.784.412; J01.293.556]\n",
    "        * Parapsychology [F02.550; F04.096.462; H01.770.644.364]\n",
    "        * Signal Detection, Psychological [E01.370.685.814; E05.796.908; F02.463.593.257.800; F02.463.593.710.725; F04.096.753.814; F04.669.908]\n",
    "* \"philosophy\"\n",
    "    * Existentialism [K01.752.304; F02.739.418]\n",
    "    * Holistic Health [K01.752.667.710; E02.190.321; N01.400.350]\n",
    "    * Symbolism [K01.400.899; K01.752.798]\n",
    "* \"neuroscience\"\n",
    "    * Neurosciences [H01.158.610]"
   ]
  },
  {
   "cell_type": "code",
   "execution_count": 8,
   "metadata": {},
   "outputs": [],
   "source": [
    "included_mesh_headings = [\n",
    "    'E02.190.321',\n",
    "    'F',\n",
    "    'H01.158.610',\n",
    "    'K01.400.899',\n",
    "    'K01.752.304',\n",
    "    'K01.752.667.710',\n",
    "    'K01.752.798',\n",
    "    'N01.400.350',\n",
    "]\n",
    "\n",
    "excluded_mesh_headings = [\n",
    "    'F02.463.593.257.800',\n",
    "    'F02.463.593.710.725',\n",
    "    'F02.550',\n",
    "    'F02.784.412',\n",
    "    'F02.830.131',\n",
    "    'F02.880',\n",
    "    'F04.096.462',\n",
    "    'F04.096.753.814',\n",
    "    'F04.669.908',\n",
    "    'F04.754.137.301',\n",
    "    'F04.754.308.500',\n",
    "]"
   ]
  },
  {
   "cell_type": "code",
   "execution_count": 9,
   "metadata": {},
   "outputs": [],
   "source": [
    "def any_starts_with(ls1, ls2):\n",
    "    r = False\n",
    "    for x in ls1:\n",
    "        for y in ls2:\n",
    "            r = r or x.startswith(y)\n",
    "    return r\n",
    "\n",
    "def is_selected_mesh_heading(ls):\n",
    "    return any_starts_with(ls, included_mesh_headings) and not any_starts_with(ls, excluded_mesh_headings)"
   ]
  },
  {
   "cell_type": "code",
   "execution_count": 10,
   "metadata": {
    "scrolled": false
   },
   "outputs": [
    {
     "name": "stdout",
     "output_type": "stream",
     "text": [
      "medline17n0001.xml\n",
      "medline17n0002.xml\n",
      "medline17n0003.xml\n",
      "CPU times: user 21min 27s, sys: 2.14 s, total: 21min 29s\n",
      "Wall time: 21min 36s\n"
     ]
    }
   ],
   "source": [
    "%%time\n",
    "\n",
    "error_set = set()\n",
    "\n",
    "article_ids = []\n",
    "for filename in sorted(os.listdir('data/src/'))[451:600]:\n",
    "    print(filename)\n",
    "    filepath = 'data/src/' + filename\n",
    "    root = ET.parse(filepath).getroot()\n",
    "    for a in root.findall('PubmedArticle'):\n",
    "        mesh_names = [e.text for e in a.findall('MedlineCitation/MeshHeadingList/MeshHeading/DescriptorName')]\n",
    "        for mesh_name in mesh_names:\n",
    "            if mesh_name in mesh_tree_sr:\n",
    "                mesh_heading = mesh_tree_sr[mesh_name]\n",
    "                if isinstance(mesh_heading, str):\n",
    "                    mesh_headings = [mesh_heading]\n",
    "                elif isinstance(mesh_heading, pd.Series):\n",
    "                    mesh_headings = list(mesh_heading)\n",
    "                else:\n",
    "                    mesh_headings = []\n",
    "                    error_set.add((1, filename, mesh_name))\n",
    "                if is_selected_mesh_heading(mesh_headings):\n",
    "                    pmid = a.find('MedlineCitation/PMID').text\n",
    "                    article_ids.append(pmid)\n",
    "                    break\n",
    "            else:\n",
    "                error_set.add((2, filename, mesh_name))\n",
    "        a.clear()\n",
    "    root.clear()"
   ]
  },
  {
   "cell_type": "code",
   "execution_count": 12,
   "metadata": {},
   "outputs": [
    {
     "data": {
      "text/plain": [
       "8973"
      ]
     },
     "execution_count": 12,
     "metadata": {},
     "output_type": "execute_result"
    }
   ],
   "source": [
    "len(article_ids)"
   ]
  },
  {
   "cell_type": "code",
   "execution_count": 11,
   "metadata": {},
   "outputs": [
    {
     "data": {
      "text/plain": [
       "51"
      ]
     },
     "execution_count": 11,
     "metadata": {},
     "output_type": "execute_result"
    }
   ],
   "source": [
    "len(error_set)"
   ]
  },
  {
   "cell_type": "code",
   "execution_count": 13,
   "metadata": {},
   "outputs": [],
   "source": [
    "with open('data/out/article_ids_4.pickle', 'wb') as f:\n",
    "    pickle.dump(article_ids, f)"
   ]
  },
  {
   "cell_type": "code",
   "execution_count": 14,
   "metadata": {},
   "outputs": [],
   "source": [
    "with open('data/out/errors_4.pickle', 'wb') as f:\n",
    "    pickle.dump(list(error_set), f)"
   ]
  },
  {
   "cell_type": "code",
   "execution_count": null,
   "metadata": {},
   "outputs": [],
   "source": []
  }
 ],
 "metadata": {
  "kernelspec": {
   "display_name": "Python 3",
   "language": "python",
   "name": "python3"
  },
  "language_info": {
   "codemirror_mode": {
    "name": "ipython",
    "version": 3
   },
   "file_extension": ".py",
   "mimetype": "text/x-python",
   "name": "python",
   "nbconvert_exporter": "python",
   "pygments_lexer": "ipython3",
   "version": "3.5.2"
  }
 },
 "nbformat": 4,
 "nbformat_minor": 2
}
